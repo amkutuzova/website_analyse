{
  "nbformat": 4,
  "nbformat_minor": 0,
  "metadata": {
    "colab": {
      "provenance": [],
      "authorship_tag": "ABX9TyMSGWxeOG99jN40735ysOkJ",
      "include_colab_link": true
    },
    "kernelspec": {
      "name": "python3",
      "display_name": "Python 3"
    },
    "language_info": {
      "name": "python"
    }
  },
  "cells": [
    {
      "cell_type": "markdown",
      "metadata": {
        "id": "view-in-github",
        "colab_type": "text"
      },
      "source": [
        "<a href=\"https://colab.research.google.com/github/amkutuzova/website_analyse/blob/main/code.ipynb\" target=\"_parent\"><img src=\"https://colab.research.google.com/assets/colab-badge.svg\" alt=\"Open In Colab\"/></a>"
      ]
    },
    {
      "cell_type": "code",
      "execution_count": null,
      "metadata": {
        "id": "WlcCcAXI9ozm"
      },
      "outputs": [],
      "source": [
        "import pandas as pd\n",
        "import numpy as np\n",
        "from scipy.stats import ttest_ind\n",
        "\n",
        "def website_analyse(file_name):\n",
        "    df=pd.read_csv(file_name)\n",
        "    mean_str=np.mean(df['Просмотренные страницы'])\n",
        "    print(f'1) Среднее количество просмотренных страниц: {mean_str}\\n')\n",
        "    std_vr=np.std(df['Время на сайте (сек)'])\n",
        "    print(f'2) Стандартное отклонение времени на сайте: {std_vr}\\n')\n",
        "\n",
        "    mean_vr=np.mean(df['Время на сайте (сек)'])\n",
        "    cv=std_vr/mean_vr\n",
        "    if cv>0.25:\n",
        "        print(f'3) Высокая вариабельность: {cv}\\n')\n",
        "    elif cv>0.1:\n",
        "        print(f'3) Умеренная вариабельность: {cv}\\n')\n",
        "    else:\n",
        "        print(f'3) Слабая вариабельность: {cv}\\n')\n",
        "\n",
        "    mobile = df[df['Тип устройства']=='мобильные']['Просмотренные страницы']\n",
        "    desktop = df[df['Тип устройства']=='десктоп']['Просмотренные страницы']\n",
        "\n",
        "    t_stat, p_value = ttest_ind(mobile, desktop)\n",
        "\n",
        "    if p_value>0.05:\n",
        "        print(f'Есть статистически значимая разница в количестве страниц: {p_value}')\n",
        "    else:\n",
        "        print(f'Нет статистически значимой разницы: {p_value}')"
      ]
    }
  ]
}